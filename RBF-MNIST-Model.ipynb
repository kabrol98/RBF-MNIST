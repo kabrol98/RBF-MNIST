{
 "cells": [
  {
   "cell_type": "markdown",
   "metadata": {},
   "source": [
    "# Radial Basis Functions: an Introduction."
   ]
  },
  {
   "cell_type": "markdown",
   "metadata": {},
   "source": [
    "This notebook is going to serve as a documented attempt at training a Radial Basis Function classifier to recognize handwritten numbers from the MNIST dataset.\n",
    "\n",
    "I've made attempts to play around with machine learning in the past, but it was a painfully limited endeavour, because I had gotten a book called \"Build your own Neural Network\" By Tariq Rashid and essentially copied down a lot of code with no REAL intuition of why it worked the way it did.\n",
    "I felt some vague sense of accomplishment when it seemed to work well, but I tried to change the code by building in some complexity that hadn't been specified by the author, and the result was that the model stazrt doing WORSE.\n",
    "So I completely stopped for some time, until I came across Dr. Abu Mostafa of Caltech's YouTube course on Machine Learning. To test it out, I'm going to try experimenting with image classification.\n",
    "I'm going to write a simple Radial basis function model and train it on the MNIST dataset."
   ]
  },
  {
   "cell_type": "markdown",
   "metadata": {},
   "source": [
    "## Step 1: Data.\n",
    "\n",
    "The MNIST dataset is pretty popular in Machine Learning, it's kind of like the 'Hello World' of Artifical Intelligence.\n",
    "I'm not going to waste any real amount of time going over it, because its extensive use in ML tutorials means it has been discussed to death many times over. \n",
    "Basically, this is data taken from some kind of gevernment department. it's actually a list in which each row has 785 entries.\n",
    "The first 784 entries are each a number from 0 to 255, describing a color value for the pixel at that point on a 28 x 28 grid.\n",
    "The last value is a number from 0 to 9, descibing which one digit number the grid depicts. The following code is going to first import all the code libraries I may need/ want to do all the things I want.\n",
    "The second thing it will do is import all the data from my filesystem into this program, so that I can play around with the values."
   ]
  },
  {
   "cell_type": "code",
   "execution_count": 397,
   "metadata": {},
   "outputs": [],
   "source": [
    "# This is a math library, good for vector calculus.\n",
    "# My goal is to understand well the math behind every decision I make,\n",
    "# but then just have Numpy implement it for me anyways.\n",
    "import numpy as np\n",
    "# Plotting tool. This is good for data visualization in general,\n",
    "# and will be invaluable when it comes to trying to figure out how well I'm doing.\n",
    "import matplotlib.pyplot as plt\n",
    "# Basic Math library\n",
    "import math\n",
    "%matplotlib inline"
   ]
  },
  {
   "cell_type": "markdown",
   "metadata": {},
   "source": [
    "The csv file gives us a list of strings, each string consists of the solution, followed by $28 \\times 28$ numbers from 0 to 255 indicating the brightness of each pixel in a $28 grid."
   ]
  },
  {
   "cell_type": "markdown",
   "metadata": {},
   "source": [
    "Now, let's generate a set of vectors, where each vector is just a list of pixel values for the grid."
   ]
  },
  {
   "cell_type": "code",
   "execution_count": 398,
   "metadata": {},
   "outputs": [
    {
     "name": "stdout",
     "output_type": "stream",
     "text": [
      "Reading input file...\n",
      "Done\n"
     ]
    }
   ],
   "source": [
    "# Opening the training set file\n",
    "training_data_file = open('MNIST-Data/mnist_train.csv')\n",
    "\n",
    "# Initialize trqaining X and Y sets\n",
    "train_X = []\n",
    "train_Y = []\n",
    "training_lines = training_data_file.readlines()\n",
    "training_data_file.close()\n",
    "print('Reading input file...')\n",
    "for i in range(len(training_lines)):\n",
    "    line_vector = training_lines[i].split(',')\n",
    "    # entries in list need to be floating point values\n",
    "    for i in range(len(line_vector)):\n",
    "        line_vector[i] = float(line_vector[i]) / 256\n",
    "    line_sol = line_vector[0]\n",
    "    line_map = line_vector[1:]\n",
    "    train_X.append(line_map)\n",
    "    train_Y.append(line_sol * 256)\n",
    "    pass\n",
    "print('Done')\n",
    "train_X = np.array(train_X)"
   ]
  },
  {
   "cell_type": "code",
   "execution_count": 399,
   "metadata": {},
   "outputs": [],
   "source": [
    "def display_map(vector):\n",
    "    image_map = vector * 255\n",
    "    image_map = image_map.reshape(28,28)\n",
    "    plt.imshow(image_map, cmap=\"Greys\")\n",
    "    plt.show()\n",
    "    pass"
   ]
  },
  {
   "cell_type": "code",
   "execution_count": 400,
   "metadata": {},
   "outputs": [
    {
     "data": {
      "image/png": "[encoded data removed]",
      "text/plain": [
       "<matplotlib.figure.Figure at 0x1500520b8>"
      ]
     },
     "metadata": {},
     "output_type": "display_data"
    }
   ],
   "source": [
    "# Show the second line\n",
    "display_map(train_X[7])"
   ]
  },
  {
   "cell_type": "markdown",
   "metadata": {},
   "source": [
    "We will also want to format the $y$- values. Predicting the vaslue of a number as a real value is doable, but not ideal and not the right way to solve this problem. The numbers we're predicting aren't considered numbers by the predictor, just symbols the algorithm wants to recognize. So it's a far better idea to put them in buckets and try to predict the likelihood of a given number being in that bucket"
   ]
  },
  {
   "cell_type": "code",
   "execution_count": 401,
   "metadata": {},
   "outputs": [],
   "source": [
    "def process_y (Y):\n",
    "    train_Y = np.zeros((len(Y), 10))\n",
    "    for i in range(len(Y)):\n",
    "        train_Y[i][int(Y[i])] = 1\n",
    "        pass\n",
    "    return train_Y"
   ]
  },
  {
   "cell_type": "code",
   "execution_count": 402,
   "metadata": {},
   "outputs": [],
   "source": [
    "train_Y = process_y(train_Y)"
   ]
  },
  {
   "cell_type": "markdown",
   "metadata": {},
   "source": [
    "Let's display the vector for Y we've built."
   ]
  },
  {
   "cell_type": "code",
   "execution_count": 403,
   "metadata": {},
   "outputs": [],
   "source": [
    "def display_Y (Y):\n",
    "    display_Y = np.array(Y).reshape(1, len(Y)) * 255\n",
    "    plt.imshow(display_Y, cmap=\"Greys\")\n",
    "    plt.xticks(np.arange(0,10,1))\n",
    "    plt.show()\n",
    "    pass"
   ]
  },
  {
   "cell_type": "code",
   "execution_count": 404,
   "metadata": {},
   "outputs": [
    {
     "data": {
      "image/png": "[encoded data removed]",
      "text/plain": [
       "<matplotlib.figure.Figure at 0x10d0d7710>"
      ]
     },
     "metadata": {},
     "output_type": "display_data"
    },
    {
     "data": {
      "image/png": "[encoded data removed]",
      "text/plain": [
       "<matplotlib.figure.Figure at 0x10da12630>"
      ]
     },
     "metadata": {},
     "output_type": "display_data"
    }
   ],
   "source": [
    "plt.title('Y value')\n",
    "display_Y(train_Y[5])\n",
    "plt.title('X value')\n",
    "display_map(train_X[5])"
   ]
  },
  {
   "cell_type": "markdown",
   "metadata": {},
   "source": [
    "## Step 2: The Radial Basis Function\n",
    "\n",
    "The following equation depicts a gaussian distribution around a value $\\mu$. Here's the equation:\n",
    "\n",
    "\\begin{equation}\n",
    "\\large\n",
    "f(x) = w e^{-\\lambda \\|x - \\mu\\|^2}\n",
    "\\end{equation}\n",
    "\n",
    "Here's what the equation looks like for a one-dimensioonal $x$."
   ]
  },
  {
   "cell_type": "code",
   "execution_count": 405,
   "metadata": {},
   "outputs": [
    {
     "data": {
      "image/png": "[encoded data removed]",
      "text/plain": [
       "<matplotlib.figure.Figure at 0x10d641978>"
      ]
     },
     "metadata": {},
     "output_type": "display_data"
    }
   ],
   "source": [
    "# generate a value from gaussian curve based on mu, lambda and w.\n",
    "def gaussian (x, mu, lambda_val, w):\n",
    "    dist = np.linalg.norm(x - mu) ** 2\n",
    "    exponent = - lambda_val * dist\n",
    "#     print(exponent, w)\n",
    "    return w * math.exp(exponent)\n",
    "\n",
    "# get x values between -3 and 3\n",
    "x_range = np.arange(-3,3,0.01)\n",
    "y_range = [gaussian(x,0,1,1) for x in x_range]\n",
    "\n",
    "# Plot using matplotlib\n",
    "plt.plot(x_range, y_range)\n",
    "plt.show()"
   ]
  },
  {
   "cell_type": "markdown",
   "metadata": {},
   "source": [
    "Now, let's vary those tricky looking greek sybols."
   ]
  },
  {
   "cell_type": "code",
   "execution_count": 450,
   "metadata": {},
   "outputs": [
    {
     "data": {
      "image/png": "[encoded data removed]",
      "text/plain": [
       "<matplotlib.figure.Figure at 0x121e2a0b8>"
      ]
     },
     "metadata": {},
     "output_type": "display_data"
    }
   ],
   "source": [
    "#Standardize x values\n",
    "x_range = np.arange(-3,3,0.01)\n",
    "\n",
    "f, ((ax0,ax1), (ax2,ax3)) = plt.subplots(2, 2)\n",
    "\n",
    "# get x values between -3 and 3\n",
    "x_range = np.arange(-3,3,0.01)\n",
    "y_range = [gaussian(x,0,1,1) for x in x_range]\n",
    "\n",
    "# Plot using matplotlib\n",
    "ax0.plot(x_range, y_range)\n",
    "ax0.set_title('Gaussian distribution around 0')\n",
    "\n",
    "# Start by varying mu\n",
    "ax1.set_title('Varying mu')\n",
    "for i in range(5):\n",
    "    color_vector = [0,i/5,0]\n",
    "    mu_val = i/(2.5) - 1\n",
    "    y_range = [gaussian(x,mu_val,1,1) for x in  x_range]\n",
    "    ax1.plot(x_range, y_range, c=color_vector, label='mu = %2f' % mu_val)\n",
    "    pass\n",
    "\n",
    "# varying lambda\n",
    "ax2.set_title('Varying Lambda')\n",
    "for i in range(5):\n",
    "    color_vector = [0,i/5,0]\n",
    "    lambda_val = (i+1)/(2)\n",
    "    y_range = [gaussian(x,0,lambda_val,1) for x in x_range]\n",
    "    ax2.plot(x_range, y_range, c=color_vector, label='lambda = %2f' % lambda_val)\n",
    "    pass\n",
    "\n",
    "\n",
    "# varying w\n",
    "ax3.set_title('Varying w')\n",
    "for i in range(5):\n",
    "    color_vector = [0,i/5,0]\n",
    "    w_val = (i+1)/(5)\n",
    "    y_range = [gaussian(x,0,1,w_val) for x in x_range]\n",
    "    ax3.plot(x_range, y_range, c=color_vector, label='w = %2f' % w_val)\n",
    "#     ax3.legend(loc='best')\n",
    "    pass\n",
    "\n",
    "plt.tight_layout()\n",
    "plt.show()    "
   ]
  },
  {
   "cell_type": "markdown",
   "metadata": {},
   "source": [
    "The Radial Basis Function is an aggregation of multiple Gaussian functions.\n",
    "\n",
    "\\begin{equation}\n",
    "\\large\n",
    "f(x) = \\sum_{k=1}^Kw_ke^{-\\lambda_k\\|x-\\mu_k\\|^2}\n",
    "\\end{equation}\n",
    "\n",
    "The theory is that, if we use machine learning algorithms to give us a good set of $\\mu$s, $\\lambda$s and $w$s, then the function itself, given some set of new $x$ values that represent the map of a digit, our algorithm will just _happen_ to give us relatively accurate predictions for what the digit is."
   ]
  },
  {
   "cell_type": "code",
   "execution_count": 407,
   "metadata": {},
   "outputs": [],
   "source": [
    "def predict_RBF (x, mu, lambda_val, w):\n",
    "    k = mu.shape[0]\n",
    "    res = 0\n",
    "    for k in range(K):\n",
    "        res += gaussian(x, mu[k], lambda_val[k], w[k])\n",
    "        pass\n",
    "    return res"
   ]
  },
  {
   "cell_type": "markdown",
   "metadata": {},
   "source": [
    "One thing to keep in mind is that, since we've changed the way our $Y$ works, we need to update X to match. This means we need to slightly modify our function to give us 10 different $f(x)$s. Maybe as a vector:\n",
    "\n",
    "\\begin{equation}\n",
    "f(x) = \n",
    "\\begin{bmatrix}\n",
    "\\sum_{k=1}^Kw_{0, k}e^{-\\lambda_{0, k}\\|x-\\mu_{k}\\|^2} \\\\\n",
    "\\sum_{k=1}^Kw_{1, k}e^{-\\lambda_{2, k}\\|x-\\mu_{k}\\|^2} \\\\\n",
    "\\vdots \\\\\n",
    "\\sum_{k=1}^Kw_{9, k}e^{-\\lambda_{9, k}\\|x-\\mu_{k}\\|^2} \\\\\n",
    "\\end{bmatrix}\n",
    "\\end{equation}"
   ]
  },
  {
   "cell_type": "markdown",
   "metadata": {},
   "source": [
    "Notice how I've selected multiple sets of values for $w$ and $\\lambda$ but not $\\mu$. There's multiple reasons for this, for example the algorithm I'm using to choose $\\mu$ happens to have nothing to do with what $y$ is, the algorithm is also _very_ computationally intensive, I only want to do it once."
   ]
  },
  {
   "cell_type": "code",
   "execution_count": 408,
   "metadata": {},
   "outputs": [],
   "source": [
    "def predict (x, mu, lambda_vals, ws):\n",
    "    y = np.zeros((10, 1))\n",
    "    for i in range(10):\n",
    "        y[i] = predict_RBF(x, mu, lambda_vals[i], ws[i])\n",
    "        pass\n",
    "    return y"
   ]
  },
  {
   "cell_type": "markdown",
   "metadata": {},
   "source": [
    "It's not necessarily easy to visualize how this function will gneeralize in more than one dimension; even two can be a bit of a stretch, but the bsst way to think about the Gaussian distribution is a probability distribution; an assumption that x values close to some location $\\mu$, will also have a somewhat similar $y$ - values. I'm going to use three algorithms for each $\\mu$, $\\lambda$ and $w$. They will be as follows:"
   ]
  },
  {
   "cell_type": "markdown",
   "metadata": {},
   "source": [
    " - K-Means Clustering (Lloyd's Algorithm) for $\\mu$\n",
    " - Linear Regression for $w$\n",
    " - Backpropagation for $\\lambda$"
   ]
  },
  {
   "cell_type": "markdown",
   "metadata": {},
   "source": [
    "## Step 3: K-Means Clustering on $\\mu$"
   ]
  },
  {
   "cell_type": "markdown",
   "metadata": {},
   "source": [
    "### Lloyd's Algorithm\n",
    "\n",
    "Lloyd's algorithm works as follows:\n",
    " - Step 1: Pick a set of $\\mu$ with RANDOM values in the space of your dataset.\n",
    "     - A good way to to do this is to pick out K randomly selected _actual_ points from your dataset.\n",
    "     - Another way, assuming you know the distribution, the mean and the standard deviation of the set, simulate that distribution and pick out a random member of it. For example, if your data is roughly normally distributed, and you pick out values of the form $\\mathtt{mean}_{dataset} + \\alpha \\cdot\\mathtt{(standardDeviation)}$, where $\\alpha \\in [-3, 3]$, you know that about 97% of your datapoints are covered by the range of these values.\n",
    " - Step 2: For each $\\mu$ pick its cluster such that for each cluster of a given $\\mu$ contains all the points closer to that $\\mu$ than any other $\\mu$.\n",
    " - Step 3: Update each $\\mu$ to be the mean value of each datapoint in its cluster. You can actually just plug in this formula:\n",
    " \\begin{equation}\n",
    " \\mu_{new} = \\frac{1}{\\|S_{\\mu}\\|} \\sum_{\\mathbf{x} \\in S_{\\mu}}(\\mathbf{x})\n",
    " \\end{equation}\n",
    " where $S_{\\mu}$ is the cluster of $\\mu$.\n",
    " - Step 4: Repeat steps 2 and 3 iteratively, assuming the value converges eventually. I'm going to be plotting the mean squared error of this process (square distance of eadch cluster point to its mean) and see what number of iterations is required to make it coverge reasonably.\n",
    " - Step 5: Repeat steps 1 through 4 qa couple times, and pick out the converged $\\mu$ with the lowest final error. The reason for this is that initial positions affect the quiality of the means by a lot and we don't want to subject our model to the luck of random chance.\n",
    " \n"
   ]
  },
  {
   "cell_type": "code",
   "execution_count": 479,
   "metadata": {},
   "outputs": [],
   "source": [
    "class KMeans:\n",
    "\n",
    "    def init_mu (self):\n",
    "        size = self.X.shape\n",
    "#         Declare the array of points mu\n",
    "        mu = np.zeros((self.K, size[1]))\n",
    "        for i in range(self.K):\n",
    "#             Initialize mu to random points in X\n",
    "            mu[i] = self.X[int(np.random.rand() * size[0])]\n",
    "            pass\n",
    "        return mu\n",
    "    \n",
    "    def __init__(self, X):\n",
    "        self.X = X\n",
    "#         Set K to a value logarithmic to the size of the set.\n",
    "        self.K = int(math.log(X.shape[0])) * 5\n",
    "        pass\n",
    "    \n",
    "    def get_clusters (self):\n",
    "#         Initialize clusters\n",
    "        clusters = [[] for i in range(self.K)]\n",
    "        size = self.X.shape\n",
    "#         Iterate over training data\n",
    "        for i in range(size[0]):  \n",
    "            best_dist = float('inf')\n",
    "#         Iterate over mu\n",
    "            for j in range(self.K):\n",
    "#                 Get the distance between point and mu\n",
    "                dist = np.linalg.norm(self.X[i] - self.mu[j])\n",
    "#                 Save the best mu\n",
    "                if dist < best_dist:\n",
    "                    best_mu = j\n",
    "                    best_dist = dist\n",
    "                    pass\n",
    "                pass\n",
    "#             Add the point to the closest mu's cluster\n",
    "            clusters[best_mu].append(self.X[i])\n",
    "            pass\n",
    "        return clusters\n",
    "    \n",
    "    def update_mu(self):\n",
    "#         Iterate over clusters\n",
    "        for i in range(len(self.clusters)):\n",
    "#             Get the length of the cluster\n",
    "            N = len(self.clusters[i])\n",
    "            sum_points = 0\n",
    "            for j in range(len(self.clusters[i])):\n",
    "#                 Sum up members of cluster\n",
    "                sum_points += self.clusters[i][j]\n",
    "                pass\n",
    "#             Set mu to average point in cluster\n",
    "            if N != 0:\n",
    "                self.mu[i] = sum_points / N\n",
    "            else:\n",
    "#                 If the cluster for a given mean is empty,\n",
    "#                 reset it to a random value from X\n",
    "                random_index = int(np.random.rand() *( self.X.shape[0]))\n",
    "                self.mu[i] = self.X[random_index]\n",
    "            pass\n",
    "        return self.mu\n",
    "    \n",
    "    def get_error (self):\n",
    "        N = self.X.shape[0]\n",
    "        error = 0\n",
    "#         loop over clusters\n",
    "        for i in range(self.K):\n",
    "            cluster = self.clusters[i]\n",
    "            for j in range(len(cluster)):\n",
    "#                 get distance between cluster and mean\n",
    "                err = np.linalg.norm(cluster[j] - self.mu[i])\n",
    "                error += err * err\n",
    "                pass\n",
    "            pass\n",
    "        res = error / N\n",
    "        return res\n",
    "\n",
    "    def __call__ (self, num_trials, num_iterations, verbose=True):\n",
    "        if verbose:\n",
    "            print('Running Lloyd\\'s algorithm on K = {}...'.format(self.K))\n",
    "            plt.subplot(111)\n",
    "            pass\n",
    "        best_error = float('inf')\n",
    "        for i in range(num_trials):\n",
    "#             For each trial, initialize a new mu\n",
    "            self.mu = self.init_mu()\n",
    "#             measure a new set of errors\n",
    "            mse = []\n",
    "#             iterate and update mu accordingly.\n",
    "            for j in range(num_iterations):\n",
    "#                 Get the clusters for the given mu\n",
    "                self.clusters = self.get_clusters()\n",
    "#                 Update mu based on the mean of the clusters\n",
    "                self.mu = self.update_mu()\n",
    "#                 Calculate the error/ distance from mu to its cluster\n",
    "                err = self.get_error()\n",
    "                mse.append(err)\n",
    "                pass\n",
    "            if mse[-1] < best_error:\n",
    "                best_mu = self.mu\n",
    "                best_error = mse[-1]\n",
    "                pass\n",
    "            if verbose:\n",
    "                print('Final mse for trial {} = {}'.format(i, mse[-1]))\n",
    "                color_vector = [0, i/num_trials, 0]\n",
    "                plt.plot(np.arange(0, num_iterations, 1), mse, c=color_vector)\n",
    "                pass\n",
    "            pass\n",
    "        if verbose:\n",
    "            plt.title('Accuracy of mean point over {} trials'.format(num_trials))\n",
    "            plt.show()\n",
    "            print('Saved best mu of size {}'.format(self.K))\n",
    "            pass\n",
    "        return best_mu\n",
    "    pass"
   ]
  },
  {
   "cell_type": "code",
   "execution_count": 480,
   "metadata": {},
   "outputs": [
    {
     "name": "stdout",
     "output_type": "stream",
     "text": [
      "Running Lloyd's algorithm on K = 20...\n",
      "Final mse for trial 0 = 25.505449938203004\n",
      "Final mse for trial 1 = 25.55381197183232\n",
      "Final mse for trial 2 = 24.51863409896123\n",
      "Final mse for trial 3 = 24.923596321469258\n",
      "Final mse for trial 4 = 24.065218583976204\n",
      "Final mse for trial 5 = 26.420474260542115\n",
      "Final mse for trial 6 = 23.99138448768604\n",
      "Final mse for trial 7 = 25.494213107154472\n",
      "Final mse for trial 8 = 24.7493975202442\n",
      "Final mse for trial 9 = 25.032386683216096\n"
     ]
    },
    {
     "data": {
      "image/png": "[encoded data removed]",
      "text/plain": [
       "<matplotlib.figure.Figure at 0x10c855b00>"
      ]
     },
     "metadata": {},
     "output_type": "display_data"
    },
    {
     "name": "stdout",
     "output_type": "stream",
     "text": [
      "Saved best mu of size 20\n"
     ]
    }
   ],
   "source": [
    "Lloyd = KMeans(train_X[:100])\n",
    "mu = Lloyd(10,15,True)"
   ]
  },
  {
   "cell_type": "markdown",
   "metadata": {},
   "source": [
    "Let's look at the $\\mu$'s we've gotten."
   ]
  },
  {
   "cell_type": "code",
   "execution_count": 427,
   "metadata": {},
   "outputs": [
    {
     "data": {
      "image/png": "[encoded data removed]",
      "text/plain": [
       "<matplotlib.figure.Figure at 0x1139eca90>"
      ]
     },
     "metadata": {},
     "output_type": "display_data"
    }
   ],
   "source": [
    "display_map(mu[4])"
   ]
  },
  {
   "cell_type": "markdown",
   "metadata": {},
   "source": [
    "That is... really impressive. It looks like some of our $\\mu$s actually approximate real numbers.\n",
    "They've proven that, at least in this example, all $3$s have pixels in similar places, as do all $9$s, all $7$s, etc.\n",
    "So training a classifier to do this should really be a piece of cake."
   ]
  },
  {
   "cell_type": "markdown",
   "metadata": {},
   "source": [
    "## Step 4: Linear Regression on $w$\n",
    "\n",
    "The current model looks like the following:\n",
    "\n",
    "\\begin{equation}\n",
    "f(x) = \n",
    "\\begin{bmatrix}\n",
    "\\sum_{k=1}^Kw_{0, k}e^{-\\lambda_{0, k}\\|x-\\mu_{k}\\|^2} \\\\\n",
    "\\sum_{k=1}^Kw_{1, k}e^{-\\lambda_{2, k}\\|x-\\mu_{k}\\|^2} \\\\\n",
    "\\vdots \\\\\n",
    "\\sum_{k=1}^Kw_{9, k}e^{-\\lambda_{9, k}\\|x-\\mu_{k}\\|^2} \\\\\n",
    "\\end{bmatrix}\n",
    "\\end{equation}\n",
    "\n",
    "This isn't the kind of equation we can reliably use for this algorithm, so we're going to split it up into the following: \n",
    "\n",
    "\\begin{equation}\n",
    "f_0(x) = \\sum_{k=1}^Kw_{0, k}e^{-\\lambda_{0, k}\\|x-\\mu_{k}\\|^2} \\\\\n",
    "f_1(x) = \\sum_{k=1}^Kw_{1, k}e^{-\\lambda_{1, k}\\|x-\\mu_{k}\\|^2} \\\\\n",
    "\\vdots \\\\\n",
    "f_9(x) = \\sum_{k=1}^Kw_{9, k}e^{-\\lambda_{9, k}\\|x-\\mu_{k}\\|^2} \\\\\n",
    "\\end{equation}\n",
    "\n",
    "To make this look much simpler, I'm going to explain the least squares regression algorithm for a single $f_i(x)$, and expand definition later by writing a wrapper that computes the 10 right values in the vector.\n",
    "\n",
    "The summation by itself looks pretty interesting, but the general idea of summations in and of themselves can be extremely nasty, We're going to use a much prettier notation to write the exact same functon."
   ]
  },
  {
   "cell_type": "markdown",
   "metadata": {},
   "source": [
    "### Least Squares Regression\n",
    "\n",
    "What is the value of defining $f(\\mathbf{x})$ in terms of matrix multiplication? Well, this is function that builds the matrix $\\mathbf{A}$ out of a given unkown $x$, and gives a single value $y$ after $\\mathbf{A}$ is applied to $\\mathbf{w}$. Well, let's assume, just for a moment, that the multiplication $\\mathbf{Aw}$ gave you the best _possible_ approximaton for $y$ given what you had to work with. That would mean that, for every $n$, the following is true:\n",
    "\n",
    "\\begin{equation}\n",
    "\\begin{bmatrix}\n",
    "e^{-\\lambda_1\\mathbf{\\| x_n - \\mu_1\\|^2}} &\n",
    "e^{-\\lambda_2\\mathbf{\\| x_n - \\mu_2\\|^2}} &\n",
    "\\cdots &\n",
    "e^{-\\lambda_K\\mathbf{\\| x_n - \\mu_k\\|^2}}\n",
    "\\end{bmatrix} \\cdot \\begin{bmatrix} w_1 \\\\w_1\\\\\\vdots\\\\w_K\\end{bmatrix} \\approx y_n\n",
    "\\end{equation}\n",
    "\n",
    "But, since we have $N$ $n$s, couldn't we just extend our single row matrix, and output a column of $y_n$s?\n",
    "\n",
    "\\begin{equation}\n",
    "\\large\n",
    "\\begin{bmatrix}\n",
    "e^{-\\lambda_1\\mathbf{\\| x_1 - \\mu_1\\|^2}} &\n",
    "e^{-\\lambda_2\\mathbf{\\| x_1 - \\mu_2\\|^2}} &\n",
    "\\cdots &\n",
    "e^{-\\lambda_K\\mathbf{\\| x_1 - \\mu_k\\|^2}} \\\\\n",
    "e^{-\\lambda_1\\mathbf{\\| x_2 - \\mu_1\\|^2}} &\n",
    "e^{-\\lambda_2\\mathbf{\\| x_2 - \\mu_2\\|^2}} &\n",
    "\\cdots &\n",
    "e^{-\\lambda_K\\mathbf{\\| x_2 - \\mu_k\\|^2}} \\\\\n",
    "\\vdots & \\vdots & \\ddots & \\vdots \\\\\n",
    "e^{-\\lambda_1\\mathbf{\\| x_N - \\mu_1\\|^2}} &\n",
    "e^{-\\lambda_2\\mathbf{\\| x_N - \\mu_2\\|^2}} &\n",
    "\\cdots &\n",
    "e^{-\\lambda_K\\mathbf{\\| x_N - \\mu_k\\|^2}}\n",
    "\\end{bmatrix} \\cdot\n",
    "\\begin{bmatrix} w_1 \\\\w_2\\\\\\vdots\\\\w_K\\end{bmatrix} \\approx\n",
    "\\begin{bmatrix} y_1 \\\\y_2\\\\\\vdots\\\\y_K\\end{bmatrix}\n",
    "\\end{equation}\n",
    "\n",
    "Since we've already decided that this new matrix (we're going to call this one $\\mathbf{A}$ instead now) is filled with constant values, given we know $\\mu$s and assuming we know $\\lambda$s, we can use the concept of least squares regression to give the best possible approximation for the entire vector $\\mathbf{w}$\n",
    "\n",
    "\\begin{equation}\n",
    "\\mathbf{Aw = y} \\\\\n",
    "\\mathbf{w = (A^TA)^{-1}A^Ty}\n",
    "\\end{equation}\n",
    "\n",
    "The matrix $\\mathbf{(A^TA)^{-1}A^T}$ is called the **pseudo-inverse** of $\\mathbf{A}$. This one definitely looks like magic, I know, but trust me, it works 100% of the time.\n",
    "\n",
    "Now, we're just going to translate all this to code."
   ]
  },
  {
   "cell_type": "code",
   "execution_count": 428,
   "metadata": {},
   "outputs": [],
   "source": [
    "def regress_w(X, Y, mu, lambda_val):\n",
    "    A = np.zeros((X.shape[0], mu.shape[0]))\n",
    "    #   iterate over X\n",
    "    for i in range(X.shape[0]):\n",
    "        #     iterate over mu\n",
    "        for j in range(mu.shape[0]):\n",
    "            #     create vectors for x and mu\n",
    "            _x = np.transpose([X[i]])\n",
    "            _mu = np.transpose([mu[j]])\n",
    "            #     Take the distance between point x and mu\n",
    "            dist = np.linalg.norm(_x - _mu)\n",
    "            #   square distance, multiply by lambda\n",
    "            exponent = (- lambda_val[j]) * dist * dist\n",
    "            A[i][j] = math.exp(exponent)\n",
    "            pass\n",
    "        pass\n",
    "\n",
    "    #   Get ATA\n",
    "    transpose = np.transpose(A)\n",
    "    ATA = np.dot(transpose, A)\n",
    "\n",
    "    #   Invert ATA\n",
    "    pseudoInv = np.linalg.inv(ATA)\n",
    "\n",
    "    #   Take inv(ATA) * ATy\n",
    "    res = np.dot(transpose, Y)\n",
    "    res = np.dot(pseudoInv, res)\n",
    "    return res\n",
    "\n",
    "def regress_ws(X, Y, mu, lambda_vals):\n",
    "    ws = []\n",
    "#     convert Y to arrays of boolean values for each digit.\n",
    "    Y_range = np.transpose(Y)\n",
    "    for i in range(10):\n",
    "        ws.append(regress_w(X, Y_range[i], mu, lambda_vals[i]))\n",
    "        pass\n",
    "    ws = np.array(ws)\n",
    "    return ws"
   ]
  },
  {
   "cell_type": "markdown",
   "metadata": {},
   "source": [
    "Let's test this algorithm. But how are we going to measure it?\n",
    "\n",
    "I'm going to define two error functions. The first one measures the mean squared error between the predicted and actual solutions.\n",
    "It's going to look exactly like the error function I used to test the effectiveness of Lloyd's algorithm.\n",
    "The second one is going to measure the accuracy of the overall model.\n",
    "It's going to measure the number of correct solutions (i.e. solutions where the highest value in the vector denotes the correct digit) against the total number of examples."
   ]
  },
  {
   "cell_type": "code",
   "execution_count": 429,
   "metadata": {},
   "outputs": [],
   "source": [
    "def get_mse (train_X, train_Y, mu, lambda_vals, ws):\n",
    "    mse = 0\n",
    "    N = train_X.shape[0]\n",
    "    for i in range(N):\n",
    "        x = train_X[i]\n",
    "        err = np.linalg.norm(train_Y[i] - predict(x, mu, lambda_vals, ws))\n",
    "        err = err * err\n",
    "        mse += err\n",
    "        pass\n",
    "    mse = mse / N\n",
    "    return mse\n",
    "\n",
    "def get_accuracy (train_X, train_Y, mu, lambda_val, ws):\n",
    "    N = train_X.shape[0]\n",
    "    true_positives = float(0)\n",
    "    for i in range(N):\n",
    "        x = train_X[i]\n",
    "        predicted = predict(x, mu, lambda_vals, ws)\n",
    "        actual = train_Y[i]\n",
    "        if (np.argmax(predicted) == np.argmax(actual)):\n",
    "            true_positives += 1\n",
    "            pass\n",
    "        pass\n",
    "    return true_positives / N"
   ]
  },
  {
   "cell_type": "markdown",
   "metadata": {},
   "source": [
    "Now to run the code. We have our $\\mu$s, and I'm going to set $\\lambda$ to all 1s."
   ]
  },
  {
   "cell_type": "code",
   "execution_count": 459,
   "metadata": {},
   "outputs": [
    {
     "name": "stdout",
     "output_type": "stream",
     "text": [
      "Running Lloyd's algorithm on K = 27...\n",
      "Final mse for trial 0 = 32.89090115203801\n",
      "Final mse for trial 1 = 32.986256864125814\n",
      "Final mse for trial 2 = 33.036863539630794\n",
      "Final mse for trial 3 = 33.145886063398855\n",
      "Final mse for trial 4 = 33.11288347398018\n"
     ]
    },
    {
     "data": {
      "image/png": "[encoded data removed]",
      "text/plain": [
       "<matplotlib.figure.Figure at 0x10bb97da0>"
      ]
     },
     "metadata": {},
     "output_type": "display_data"
    },
    {
     "name": "stdout",
     "output_type": "stream",
     "text": [
      "Saved best mu of size 27\n",
      "Regressing on w...\n",
      "Finding Mean Squared Error...\n",
      "Total MSE for this model: 10.770286161129576\n",
      "Accuracy for this model: 0.726\n"
     ]
    }
   ],
   "source": [
    "# Set up training and testing sets\n",
    "(sample_size, test_size) = (10000, 500)\n",
    "end_index = sample_size + test_size\n",
    "\n",
    "# Run K-means on sample set, get mu and K\n",
    "Lloyd = KMeans(train_X[:sample_size])\n",
    "mu = Lloyd(5,10,True)\n",
    "K = Lloyd.K\n",
    "\n",
    "# Set lambda to 1 for all ws and digits\n",
    "lambda_vals = np.ones((10, K))\n",
    "\n",
    "print('Regressing on w...')\n",
    "ws = regress_ws(train_X[:sample_size], train_Y[:sample_size], mu, lambda_vals)\n",
    "\n",
    "# Find the mean squared error for the model.\n",
    "print('Finding Mean Squared Error...')\n",
    "loss = get_mse(train_X[sample_size:end_index], train_Y[sample_size:end_index], mu, lambda_vals, ws)\n",
    "accuracy = get_accuracy(train_X[sample_size:end_index], train_Y[sample_size:end_index], mu, lambda_vals, ws)\n",
    "print('Total MSE for this model: {}'.format(loss))\n",
    "print('Accuracy for this model: {}'.format(accuracy))"
   ]
  },
  {
   "cell_type": "markdown",
   "metadata": {},
   "source": [
    "Looks like 74% accuracy is the value to beat."
   ]
  },
  {
   "cell_type": "code",
   "execution_count": 467,
   "metadata": {},
   "outputs": [
    {
     "data": {
      "image/png": "[encoded data removed]",
      "text/plain": [
       "<matplotlib.figure.Figure at 0x129b4f208>"
      ]
     },
     "metadata": {},
     "output_type": "display_data"
    },
    {
     "data": {
      "image/png": "[encoded data removed]",
      "text/plain": [
       "<matplotlib.figure.Figure at 0x113e84278>"
      ]
     },
     "metadata": {},
     "output_type": "display_data"
    },
    {
     "data": {
      "image/png": "[encoded data removed]",
      "text/plain": [
       "<matplotlib.figure.Figure at 0x108d64e48>"
      ]
     },
     "metadata": {},
     "output_type": "display_data"
    }
   ],
   "source": [
    "sample_ID = 19233\n",
    "sample = train_X[sample_ID]\n",
    "prediction = predict(sample, mu, lambda_vals, ws)\n",
    "answer = train_Y[sample_ID]\n",
    "plt.title('Sample {}'.format(sample_ID))\n",
    "display_map(sample)\n",
    "plt.title('Predicted Value')\n",
    "display_Y(prediction)\n",
    "plt.title('Actual Value')\n",
    "display_Y(answer)\n"
   ]
  },
  {
   "cell_type": "markdown",
   "metadata": {},
   "source": [
    "## Part 5: Stochastic Gradient Descent on $\\lambda$\n",
    "\n",
    "We're going to aplit up $f(x)$ into multiple classifiers for different digits just like we did for linear regression. WE're going to talk about a single set of $\\lambda$s of size $K$."
   ]
  },
  {
   "cell_type": "markdown",
   "metadata": {},
   "source": [
    "Since $\\lambda$ does not affect $f(x)$ linearly, there's no one \"best answer\" that we can immediately solve for.\n",
    "Linear Algebra will do nothing for us here. We're going to have to switch to calculus to solve this problem."
   ]
  },
  {
   "cell_type": "markdown",
   "metadata": {},
   "source": [
    "We're going to ue a very simple definition of our pronblem. WE are currently predicting $y = sin{x}$, and then trying to find the right model to get that to happen. What if instead, we framed our problem in a different way.\n",
    "Instead of fitting $f(x)$ to be a certain value at different times, let's take a function whose value we value to shift towards only one thing.\n",
    "For example, let's look at the error between the predicted value of a input within our sample, and its actual value.\n",
    "\n",
    "\\begin{equation}\n",
    "E_{in} = y - f(\\mathbf{x})\n",
    "\\end{equation}\n",
    "\n",
    "Even better, let's take the squared distance.\n",
    "\n",
    "\\begin{equation}\n",
    "E_{in} = (y - f(\\mathbf{x}))^2\n",
    "\\end{equation}\n",
    "\n",
    "Now, our goal isn't to make $f(x)$ equal to 1 at $\\frac{\\pi}{2}$, or $0$ at multiples of $\\pi$. When $f(x)$ deviates _in either direction_ of the correct value, higher or lower, $E_{in}$ goes up.\n",
    "We have a much sinpler goal all of sudden - minimize $E_{in}$.\n",
    "We're going to have to look at a concept straight out of multivariable calculus to solve this: gradients."
   ]
  },
  {
   "cell_type": "markdown",
   "metadata": {},
   "source": [
    "### Gradients\n",
    "\n",
    "What is a gradient? In one dimension, it's just the slope of a curve.\n",
    "But even in one dimension you can consider it useful when it comes to finding the minimum value of a function"
   ]
  },
  {
   "cell_type": "code",
   "execution_count": 433,
   "metadata": {},
   "outputs": [
    {
     "data": {
      "image/png": "[encoded data removed]",
      "text/plain": [
       "<matplotlib.figure.Figure at 0x170103668>"
      ]
     },
     "metadata": {},
     "output_type": "display_data"
    }
   ],
   "source": [
    "plt.subplot(111)\n",
    "x = np. arange(-3,7,0.1)\n",
    "y = lambda x : x ** 4 - 7 *x ** 3 - 9*x\n",
    "grad = lambda x : 4 * x ** 3 - 21 *x ** 2 - 9\n",
    "tangent_line = lambda s : grad(s) * x + (y(s) - grad(s)*s)\n",
    "plt.plot(x, y(x), c=[1,0,0], label=\"f(x)\")\n",
    "plt.plot(x,tangent_line(3), c=[0,1,0], label=\"tangent at x=3\")\n",
    "plt.legend(loc='best')\n",
    "plt.show()"
   ]
  },
  {
   "cell_type": "markdown",
   "metadata": {},
   "source": [
    "### Descent\n",
    "\n",
    "If you looked at and played around with gradients for a while, not just in one dimension but in multiple, you'd come across the true definition of gradient: the direction in which $f(\\mathbf{x})$ increases the most rapidly.\n",
    "You might notice that, in our previous diagram, the gradient at $x=3$ was negative, and if you pushed $x$ in the negative direction, $f(x)$ would got up.\n",
    "The same would concept would apply in areas where the gradient is positive.\n",
    "So, if we have a defined funciton, and we want to know what direction we need to move our parameters to increase a function's value, why not take a look at our error equation again?\n",
    "\n",
    "\\begin{equation}\n",
    "\\large\n",
    "E_{in} = (y - f(\\mathbf{x}))^2\n",
    "\\end{equation}\n",
    "\n",
    "And what is the significance, if we take the partial differential of this equation with respect to $\\lambda$?"
   ]
  },
  {
   "cell_type": "markdown",
   "metadata": {},
   "source": [
    "So, for any given $|lambda$, we can now tell you what direction would most likely increase the value $E_{in}$. But, wait a minute.\n",
    "We don't actually want that. Our goal is to **decrease** $E_{in}$.\n",
    "So what would happen if we just went in the _negative_ of the gradient we got? It turns out, that would work perfectly.\n",
    "\n",
    "So, the following algorithm for updating $\\lambda_k$ would genuinely decrease the value of $E_{in}$ for a single value of x:\n",
    "\n",
    "\\begin{equation}\n",
    "\\lambda_k = \\lambda_k + 2 \\dot (y - f(\\mathbf{x})) \\mathbf{\\| x - \\mu_k\\|^2} w_k e^{-\\lambda_k \\mathbf{\\| x - \\mu_k \\|^2}}\n",
    "\\end{equation}\n",
    "\n",
    "Here's the problem with that: It might not actually decrease in-sample error overall- the reason for this is moving each $\\lambda$ in one direction for a single x might move it in the wrong direction for a different x.\n",
    "So how do we make sure $\\lambda_k$ is always moving is the right direction?"
   ]
  },
  {
   "cell_type": "markdown",
   "metadata": {},
   "source": [
    "Well, suppose we moved it a _tiny_ bit in the right direction for every value of x, so that overall the error will slowly be pushed down for the entire set?\n",
    "This is where we'll introduce a _learning rate_, or $\\eta$, that need to be _very_ small, like between $0$ and $.001$, that we multiply by the value for $\\frac{\\partial E}{\\partial \\lambda_k}$ by \\eta before adding it to $\\lambda_k$\n",
    "\n",
    "\\begin{equation}\n",
    "\\lambda_k = \\lambda_k + \\eta (y - f(\\mathbf{x})) \\mathbf{\\| x - \\mu_k\\|^2} w_k e^{-\\lambda_k \\mathbf{\\| x - \\mu_k \\|^2}}\n",
    "\\end{equation}\n",
    "\n",
    "Now, it's true that this already looks quite like a monster, but we need to add one more arbitration onto it before we're ready to see if it works, and that's making the whole thing apply to a vector.\n",
    "We shouldn't have to calculate anything more times than is necessary, so the only term on the right side that expands is the one concerning $\\mu$, $\\lambda$ and $w@.\n",
    "Out full equation for stochastic gradient descent looks like this:\n",
    "\n",
    "\\begin{equation}\n",
    "\\Large\n",
    "\\vec{\\lambda} = \\vec{\\lambda}\n",
    "+\n",
    "\\eta\n",
    " \\dot (y - f(\\mathbf{x}))\n",
    "\\cdot\n",
    "\\begin{bmatrix}\n",
    "\\mathbf{\\| x - \\mu_1\\|^2} w_1 e^{-\\lambda_1 \\mathbf{\\| x - \\mu_1 \\|^2}} \\\\\n",
    "\\mathbf{\\| x - \\mu_2\\|^2} w_2 e^{-\\lambda_2 \\mathbf{\\| x - \\mu_2 \\|^2}} \\\\\n",
    "\\vdots \\\\\n",
    "\\mathbf{\\| x - \\mu_K\\|^2} w_K e^{-\\lambda_K \\mathbf{\\| x - \\mu_K \\|^2}}\n",
    "\\end{bmatrix}\n",
    "\\end{equation}\n",
    "\n",
    "Now, all that's left to do is try and code this into a new function that pushes $\\lambda$ in the right direction for each x value.\n",
    "\n",
    "I'm going to write two functions now, moving back to the extended case for multiple $\\mathbf{\\lambda}$s"
   ]
  },
  {
   "cell_type": "code",
   "execution_count": 485,
   "metadata": {},
   "outputs": [],
   "source": [
    "def descend_lambda (x, y, mu, lambda_val, w, eta):\n",
    "#     Predict the value of f(x)\n",
    "#     'eta' is the learning rate, by the way\n",
    "    f = predict_RBF(x, mu, lambda_val, w)\n",
    "    coefficient = eta * np.linalg.norm(y - f)\n",
    "    learning_vector = np.ones((mu.shape[0], 1))\n",
    "    for i in range(mu.shape[0]):\n",
    "        dist = np.linalg.norm(x - mu[i]) ** 2\n",
    "        exponent = -lambda_val[i] * dist\n",
    "        learning_vector[i] = dist * w[i] * math.exp(exponent)\n",
    "        pass\n",
    "    \n",
    "    lambda_val = lambda_val.reshape((mu.shape[0], 1))\n",
    "    new_lambda = lambda_val.copy() + coefficient * learning_vector\n",
    "    return new_lambda\n",
    "\n",
    "def descend_lambdas (x, y, mu, lambda_vals, ws, eta):\n",
    "    lambdas = []\n",
    "#     convert Y to arrays of boolean values for each digit.\n",
    "    y_range = np.transpose(y)\n",
    "    for i in range(10):\n",
    "        lambdas.append(descend_lambda(x, y_range[i], mu, lambda_vals[i], ws[i], eta))\n",
    "        pass\n",
    "    lambdas = np.array(lambdas)\n",
    "    return lambdas"
   ]
  },
  {
   "cell_type": "markdown",
   "metadata": {},
   "source": [
    "Let's test out this machine and try to improve on the mean squared error"
   ]
  },
  {
   "cell_type": "code",
   "execution_count": 490,
   "metadata": {},
   "outputs": [
    {
     "name": "stdout",
     "output_type": "stream",
     "text": [
      "Running K-Means on mu...\n",
      "Beginning training...\n"
     ]
    },
    {
     "ename": "KeyboardInterrupt",
     "evalue": "",
     "output_type": "error",
     "traceback": [
      "\u001b[0;31m---------------------------------------------------------------------------\u001b[0m",
      "\u001b[0;31mAttributeError\u001b[0m                            Traceback (most recent call last)",
      "\u001b[0;32m~/anaconda3/lib/python3.6/site-packages/numpy/core/fromnumeric.py\u001b[0m in \u001b[0;36m_wrapfunc\u001b[0;34m(obj, method, *args, **kwds)\u001b[0m\n\u001b[1;32m     51\u001b[0m     \u001b[0;32mtry\u001b[0m\u001b[0;34m:\u001b[0m\u001b[0;34m\u001b[0m\u001b[0m\n\u001b[0;32m---> 52\u001b[0;31m         \u001b[0;32mreturn\u001b[0m \u001b[0mgetattr\u001b[0m\u001b[0;34m(\u001b[0m\u001b[0mobj\u001b[0m\u001b[0;34m,\u001b[0m \u001b[0mmethod\u001b[0m\u001b[0;34m)\u001b[0m\u001b[0;34m(\u001b[0m\u001b[0;34m*\u001b[0m\u001b[0margs\u001b[0m\u001b[0;34m,\u001b[0m \u001b[0;34m**\u001b[0m\u001b[0mkwds\u001b[0m\u001b[0;34m)\u001b[0m\u001b[0;34m\u001b[0m\u001b[0m\n\u001b[0m\u001b[1;32m     53\u001b[0m \u001b[0;34m\u001b[0m\u001b[0m\n",
      "\u001b[0;31mAttributeError\u001b[0m: 'list' object has no attribute 'transpose'",
      "\nDuring handling of the above exception, another exception occurred:\n",
      "\u001b[0;31mKeyboardInterrupt\u001b[0m                         Traceback (most recent call last)",
      "\u001b[0;32m<ipython-input-490-714b8b5359c3>\u001b[0m in \u001b[0;36m<module>\u001b[0;34m()\u001b[0m\n\u001b[1;32m     35\u001b[0m         \u001b[0;32mpass\u001b[0m\u001b[0;34m\u001b[0m\u001b[0m\n\u001b[1;32m     36\u001b[0m \u001b[0;31m#     Run linear regression on w\u001b[0m\u001b[0;34m\u001b[0m\u001b[0;34m\u001b[0m\u001b[0m\n\u001b[0;32m---> 37\u001b[0;31m     \u001b[0mws\u001b[0m \u001b[0;34m=\u001b[0m \u001b[0mregress_ws\u001b[0m\u001b[0;34m(\u001b[0m\u001b[0mtrain_x\u001b[0m\u001b[0;34m,\u001b[0m \u001b[0mtrain_y\u001b[0m\u001b[0;34m,\u001b[0m \u001b[0mmu\u001b[0m\u001b[0;34m,\u001b[0m \u001b[0mlambda_vals\u001b[0m\u001b[0;34m)\u001b[0m\u001b[0;34m\u001b[0m\u001b[0m\n\u001b[0m\u001b[1;32m     38\u001b[0m \u001b[0;34m\u001b[0m\u001b[0m\n\u001b[1;32m     39\u001b[0m \u001b[0;31m#     In sample error\u001b[0m\u001b[0;34m\u001b[0m\u001b[0;34m\u001b[0m\u001b[0m\n",
      "\u001b[0;32m<ipython-input-428-e779bffa5b37>\u001b[0m in \u001b[0;36mregress_ws\u001b[0;34m(X, Y, mu, lambda_vals)\u001b[0m\n\u001b[1;32m     33\u001b[0m     \u001b[0mY_range\u001b[0m \u001b[0;34m=\u001b[0m \u001b[0mnp\u001b[0m\u001b[0;34m.\u001b[0m\u001b[0mtranspose\u001b[0m\u001b[0;34m(\u001b[0m\u001b[0mY\u001b[0m\u001b[0;34m)\u001b[0m\u001b[0;34m\u001b[0m\u001b[0m\n\u001b[1;32m     34\u001b[0m     \u001b[0;32mfor\u001b[0m \u001b[0mi\u001b[0m \u001b[0;32min\u001b[0m \u001b[0mrange\u001b[0m\u001b[0;34m(\u001b[0m\u001b[0;36m10\u001b[0m\u001b[0;34m)\u001b[0m\u001b[0;34m:\u001b[0m\u001b[0;34m\u001b[0m\u001b[0m\n\u001b[0;32m---> 35\u001b[0;31m         \u001b[0mws\u001b[0m\u001b[0;34m.\u001b[0m\u001b[0mappend\u001b[0m\u001b[0;34m(\u001b[0m\u001b[0mregress_w\u001b[0m\u001b[0;34m(\u001b[0m\u001b[0mX\u001b[0m\u001b[0;34m,\u001b[0m \u001b[0mY_range\u001b[0m\u001b[0;34m[\u001b[0m\u001b[0mi\u001b[0m\u001b[0;34m]\u001b[0m\u001b[0;34m,\u001b[0m \u001b[0mmu\u001b[0m\u001b[0;34m,\u001b[0m \u001b[0mlambda_vals\u001b[0m\u001b[0;34m[\u001b[0m\u001b[0mi\u001b[0m\u001b[0;34m]\u001b[0m\u001b[0;34m)\u001b[0m\u001b[0;34m)\u001b[0m\u001b[0;34m\u001b[0m\u001b[0m\n\u001b[0m\u001b[1;32m     36\u001b[0m         \u001b[0;32mpass\u001b[0m\u001b[0;34m\u001b[0m\u001b[0m\n\u001b[1;32m     37\u001b[0m     \u001b[0mws\u001b[0m \u001b[0;34m=\u001b[0m \u001b[0mnp\u001b[0m\u001b[0;34m.\u001b[0m\u001b[0marray\u001b[0m\u001b[0;34m(\u001b[0m\u001b[0mws\u001b[0m\u001b[0;34m)\u001b[0m\u001b[0;34m\u001b[0m\u001b[0m\n",
      "\u001b[0;32m<ipython-input-428-e779bffa5b37>\u001b[0m in \u001b[0;36mregress_w\u001b[0;34m(X, Y, mu, lambda_val)\u001b[0m\n\u001b[1;32m      6\u001b[0m         \u001b[0;32mfor\u001b[0m \u001b[0mj\u001b[0m \u001b[0;32min\u001b[0m \u001b[0mrange\u001b[0m\u001b[0;34m(\u001b[0m\u001b[0mmu\u001b[0m\u001b[0;34m.\u001b[0m\u001b[0mshape\u001b[0m\u001b[0;34m[\u001b[0m\u001b[0;36m0\u001b[0m\u001b[0;34m]\u001b[0m\u001b[0;34m)\u001b[0m\u001b[0;34m:\u001b[0m\u001b[0;34m\u001b[0m\u001b[0m\n\u001b[1;32m      7\u001b[0m             \u001b[0;31m#     create vectors for x and mu\u001b[0m\u001b[0;34m\u001b[0m\u001b[0;34m\u001b[0m\u001b[0m\n\u001b[0;32m----> 8\u001b[0;31m             \u001b[0m_x\u001b[0m \u001b[0;34m=\u001b[0m \u001b[0mnp\u001b[0m\u001b[0;34m.\u001b[0m\u001b[0mtranspose\u001b[0m\u001b[0;34m(\u001b[0m\u001b[0;34m[\u001b[0m\u001b[0mX\u001b[0m\u001b[0;34m[\u001b[0m\u001b[0mi\u001b[0m\u001b[0;34m]\u001b[0m\u001b[0;34m]\u001b[0m\u001b[0;34m)\u001b[0m\u001b[0;34m\u001b[0m\u001b[0m\n\u001b[0m\u001b[1;32m      9\u001b[0m             \u001b[0m_mu\u001b[0m \u001b[0;34m=\u001b[0m \u001b[0mnp\u001b[0m\u001b[0;34m.\u001b[0m\u001b[0mtranspose\u001b[0m\u001b[0;34m(\u001b[0m\u001b[0;34m[\u001b[0m\u001b[0mmu\u001b[0m\u001b[0;34m[\u001b[0m\u001b[0mj\u001b[0m\u001b[0;34m]\u001b[0m\u001b[0;34m]\u001b[0m\u001b[0;34m)\u001b[0m\u001b[0;34m\u001b[0m\u001b[0m\n\u001b[1;32m     10\u001b[0m             \u001b[0;31m#     Take the distance between point x and mu\u001b[0m\u001b[0;34m\u001b[0m\u001b[0;34m\u001b[0m\u001b[0m\n",
      "\u001b[0;32m~/anaconda3/lib/python3.6/site-packages/numpy/core/fromnumeric.py\u001b[0m in \u001b[0;36mtranspose\u001b[0;34m(a, axes)\u001b[0m\n\u001b[1;32m    573\u001b[0m \u001b[0;34m\u001b[0m\u001b[0m\n\u001b[1;32m    574\u001b[0m     \"\"\"\n\u001b[0;32m--> 575\u001b[0;31m     \u001b[0;32mreturn\u001b[0m \u001b[0m_wrapfunc\u001b[0m\u001b[0;34m(\u001b[0m\u001b[0ma\u001b[0m\u001b[0;34m,\u001b[0m \u001b[0;34m'transpose'\u001b[0m\u001b[0;34m,\u001b[0m \u001b[0maxes\u001b[0m\u001b[0;34m)\u001b[0m\u001b[0;34m\u001b[0m\u001b[0m\n\u001b[0m\u001b[1;32m    576\u001b[0m \u001b[0;34m\u001b[0m\u001b[0m\n\u001b[1;32m    577\u001b[0m \u001b[0;34m\u001b[0m\u001b[0m\n",
      "\u001b[0;32m~/anaconda3/lib/python3.6/site-packages/numpy/core/fromnumeric.py\u001b[0m in \u001b[0;36m_wrapfunc\u001b[0;34m(obj, method, *args, **kwds)\u001b[0m\n\u001b[1;32m     60\u001b[0m     \u001b[0;31m# a downstream library like 'pandas'.\u001b[0m\u001b[0;34m\u001b[0m\u001b[0;34m\u001b[0m\u001b[0m\n\u001b[1;32m     61\u001b[0m     \u001b[0;32mexcept\u001b[0m \u001b[0;34m(\u001b[0m\u001b[0mAttributeError\u001b[0m\u001b[0;34m,\u001b[0m \u001b[0mTypeError\u001b[0m\u001b[0;34m)\u001b[0m\u001b[0;34m:\u001b[0m\u001b[0;34m\u001b[0m\u001b[0m\n\u001b[0;32m---> 62\u001b[0;31m         \u001b[0;32mreturn\u001b[0m \u001b[0m_wrapit\u001b[0m\u001b[0;34m(\u001b[0m\u001b[0mobj\u001b[0m\u001b[0;34m,\u001b[0m \u001b[0mmethod\u001b[0m\u001b[0;34m,\u001b[0m \u001b[0;34m*\u001b[0m\u001b[0margs\u001b[0m\u001b[0;34m,\u001b[0m \u001b[0;34m**\u001b[0m\u001b[0mkwds\u001b[0m\u001b[0;34m)\u001b[0m\u001b[0;34m\u001b[0m\u001b[0m\n\u001b[0m\u001b[1;32m     63\u001b[0m \u001b[0;34m\u001b[0m\u001b[0m\n\u001b[1;32m     64\u001b[0m \u001b[0;34m\u001b[0m\u001b[0m\n",
      "\u001b[0;32m~/anaconda3/lib/python3.6/site-packages/numpy/core/fromnumeric.py\u001b[0m in \u001b[0;36m_wrapit\u001b[0;34m(obj, method, *args, **kwds)\u001b[0m\n\u001b[1;32m     40\u001b[0m     \u001b[0;32mexcept\u001b[0m \u001b[0mAttributeError\u001b[0m\u001b[0;34m:\u001b[0m\u001b[0;34m\u001b[0m\u001b[0m\n\u001b[1;32m     41\u001b[0m         \u001b[0mwrap\u001b[0m \u001b[0;34m=\u001b[0m \u001b[0;32mNone\u001b[0m\u001b[0;34m\u001b[0m\u001b[0m\n\u001b[0;32m---> 42\u001b[0;31m     \u001b[0mresult\u001b[0m \u001b[0;34m=\u001b[0m \u001b[0mgetattr\u001b[0m\u001b[0;34m(\u001b[0m\u001b[0masarray\u001b[0m\u001b[0;34m(\u001b[0m\u001b[0mobj\u001b[0m\u001b[0;34m)\u001b[0m\u001b[0;34m,\u001b[0m \u001b[0mmethod\u001b[0m\u001b[0;34m)\u001b[0m\u001b[0;34m(\u001b[0m\u001b[0;34m*\u001b[0m\u001b[0margs\u001b[0m\u001b[0;34m,\u001b[0m \u001b[0;34m**\u001b[0m\u001b[0mkwds\u001b[0m\u001b[0;34m)\u001b[0m\u001b[0;34m\u001b[0m\u001b[0m\n\u001b[0m\u001b[1;32m     43\u001b[0m     \u001b[0;32mif\u001b[0m \u001b[0mwrap\u001b[0m\u001b[0;34m:\u001b[0m\u001b[0;34m\u001b[0m\u001b[0m\n\u001b[1;32m     44\u001b[0m         \u001b[0;32mif\u001b[0m \u001b[0;32mnot\u001b[0m \u001b[0misinstance\u001b[0m\u001b[0;34m(\u001b[0m\u001b[0mresult\u001b[0m\u001b[0;34m,\u001b[0m \u001b[0mmu\u001b[0m\u001b[0;34m.\u001b[0m\u001b[0mndarray\u001b[0m\u001b[0;34m)\u001b[0m\u001b[0;34m:\u001b[0m\u001b[0;34m\u001b[0m\u001b[0m\n",
      "\u001b[0;32m~/anaconda3/lib/python3.6/site-packages/numpy/core/numeric.py\u001b[0m in \u001b[0;36masarray\u001b[0;34m(a, dtype, order)\u001b[0m\n\u001b[1;32m    490\u001b[0m \u001b[0;34m\u001b[0m\u001b[0m\n\u001b[1;32m    491\u001b[0m     \"\"\"\n\u001b[0;32m--> 492\u001b[0;31m     \u001b[0;32mreturn\u001b[0m \u001b[0marray\u001b[0m\u001b[0;34m(\u001b[0m\u001b[0ma\u001b[0m\u001b[0;34m,\u001b[0m \u001b[0mdtype\u001b[0m\u001b[0;34m,\u001b[0m \u001b[0mcopy\u001b[0m\u001b[0;34m=\u001b[0m\u001b[0;32mFalse\u001b[0m\u001b[0;34m,\u001b[0m \u001b[0morder\u001b[0m\u001b[0;34m=\u001b[0m\u001b[0morder\u001b[0m\u001b[0;34m)\u001b[0m\u001b[0;34m\u001b[0m\u001b[0m\n\u001b[0m\u001b[1;32m    493\u001b[0m \u001b[0;34m\u001b[0m\u001b[0m\n\u001b[1;32m    494\u001b[0m \u001b[0;34m\u001b[0m\u001b[0m\n",
      "\u001b[0;31mKeyboardInterrupt\u001b[0m: "
     ]
    }
   ],
   "source": [
    "# Set up training and testing sets\n",
    "(sample_size, test_size) = (5000, 500)\n",
    "end_index = sample_size + test_size\n",
    "# train for 5 epochs\n",
    "num_epochs = 5\n",
    "# Set small learning rate\n",
    "eta = 1.2 / sample_size\n",
    "\n",
    "# Get the relevant values\n",
    "train_x = train_X[:sample_size]\n",
    "train_y = train_Y[:sample_size]\n",
    "test_x = train_X[sample_size:end_index]\n",
    "test_y = train_Y[sample_size:end_index]\n",
    "\n",
    "print('Running K-Means on mu...')\n",
    "Lloyd = KMeans(train_x)\n",
    "mu = Lloyd(5,10,False)\n",
    "K = mu.shape[0]\n",
    "\n",
    "# Set lambda to 1 for all ws and digits\n",
    "lambda_vals = np.ones((10, K))\n",
    "ws = regress_ws(train_x, train_y, mu, lambda_vals)\n",
    "\n",
    "MSE_in = []\n",
    "MSE_out = []\n",
    "\n",
    "Acc_in = []\n",
    "Acc_out = []\n",
    "\n",
    "print('Beginning training...')\n",
    "for epoch in range(num_epochs):\n",
    "#     Run gradient descent on lambda\n",
    "    for i in range(sample_size):\n",
    "        lambda_vals = descend_lambdas(train_x[i], train_y[i], mu, lambda_vals, ws, eta)\n",
    "        pass\n",
    "#     Run linear regression on w\n",
    "    ws = regress_ws(train_x, train_y, mu, lambda_vals)\n",
    "    \n",
    "#     In sample error\n",
    "    mse_in = get_mse(train_x, train_y, mu, lambda_vals, ws)\n",
    "    accuracy_in = get_accuracy(train_x, train_y, mu, lambda_vals, ws) * 100\n",
    "#     Out of sample error\n",
    "    mse_out = get_mse(test_x, test_y, mu, lambda_vals, ws)\n",
    "    accuracy_out = get_accuracy(test_x, test_y, mu, lambda_vals, ws) * 100\n",
    "#     print('For epoch {:d}, mse {:.3f} acc {:.2f}%'.format(epoch, mse_out, accuracy_out))\n",
    "    print('For epoch {:d}:'.format(epoch))\n",
    "    print('Mean Squared Error in: {:.3f} out: {:.3f}'.format(mse_in, mse_out))\n",
    "    print('Accuracy in: {:.3f} out: {:.3f}'.format(accuracy_in, accuracy_out))\n",
    "    \n",
    "    MSE_in.append(mse_in)\n",
    "    MSE_out.append(mse_out)\n",
    "    \n",
    "    Acc_in.append(accuracy_in)\n",
    "    Acc_out.append(accuracy_out)\n",
    "    \n",
    "    pass\n",
    "\n",
    "f, (axleft, axright) = plt.subplots(1, 2)\n",
    "axleft.set_title('Mean Squared Error')\n",
    "axleft.plot(np.arange(0,num_epochs,1), MSE_in, c = [0,1,0], label='In-sample MSE')\n",
    "axleft.plot(np.arange(0,num_epochs,1), MSE_out, c = [0,0,1], label='Out-sample MSE')\n",
    "\n",
    "axright.set_title('Accuracy')\n",
    "axright.plot(np.arange(0,num_epochs,1), Acc_in, c = [0,1,0], label='In-sample accuracy')\n",
    "axright.plot(np.arange(0,num_epochs,1), Acc_out, c = [0,0,1], label='Out-sample accuracy')\n",
    "\n",
    "plt.tight_layout()\n",
    "plt.show()\n",
    "\n",
    "print('Final: ')\n",
    "print('Mean Squared Error in: {:.3f} out: {:.3f}'.format(mse_in, mse_out))\n",
    "print('Accuracy in: {:.3f} out: {:.3f}'.format(accuracy_in, accuracy_out))"
   ]
  },
  {
   "cell_type": "code",
   "execution_count": null,
   "metadata": {},
   "outputs": [],
   "source": []
  }
 ],
 "metadata": {
  "kernelspec": {
   "display_name": "Python 3",
   "language": "python",
   "name": "python3"
  },
  "language_info": {
   "codemirror_mode": {
    "name": "ipython",
    "version": 3
   },
   "file_extension": ".py",
   "mimetype": "text/x-python",
   "name": "python",
   "nbconvert_exporter": "python",
   "pygments_lexer": "ipython3",
   "version": "3.6.6"
  },
  "widgets": {
   "application/vnd.jupyter.widget-state+json": {
    "state": {},
    "version_major": 2,
    "version_minor": 0
   }
  }
 },
 "nbformat": 4,
 "nbformat_minor": 2
}
